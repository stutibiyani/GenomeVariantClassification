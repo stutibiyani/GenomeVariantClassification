{
 "cells": [
  {
   "cell_type": "markdown",
   "metadata": {},
   "source": [
    "# Clairvoyante (Model Training Demo)\n"
   ]
  },
  {
   "cell_type": "code",
   "execution_count": 1,
   "metadata": {
    "collapsed": false,
    "jupyter": {
     "outputs_hidden": false
    }
   },
   "outputs": [
    {
     "name": "stdout",
     "output_type": "stream",
     "text": [
      "Populating the interactive namespace from numpy and matplotlib\n"
     ]
    }
   ],
   "source": [
    "%matplotlib inline\n",
    "%pylab inline\n",
    "import sys\n",
    "sys.path.append('../')\n",
    "import numpy as np\n",
    "import time\n",
    "import pickle\n",
    "from random import randrange"
   ]
  },
  {
   "cell_type": "code",
   "execution_count": 2,
   "metadata": {
    "collapsed": false,
    "jupyter": {
     "outputs_hidden": false
    }
   },
   "outputs": [
    {
     "name": "stderr",
     "output_type": "stream",
     "text": [
      "/home/mu2047/.local/lib/python3.8/site-packages/numpy/core/getlimits.py:518: UserWarning: The value of the smallest subnormal for <class 'numpy.float32'> type is zero.\n",
      "  setattr(self, word, getattr(machar, word).flat[0])\n",
      "/home/mu2047/.local/lib/python3.8/site-packages/numpy/core/getlimits.py:89: UserWarning: The value of the smallest subnormal for <class 'numpy.float32'> type is zero.\n",
      "  return self._float_to_str(self.smallest_subnormal)\n",
      "/home/mu2047/.local/lib/python3.8/site-packages/numpy/core/getlimits.py:518: UserWarning: The value of the smallest subnormal for <class 'numpy.float64'> type is zero.\n",
      "  setattr(self, word, getattr(machar, word).flat[0])\n",
      "/home/mu2047/.local/lib/python3.8/site-packages/numpy/core/getlimits.py:89: UserWarning: The value of the smallest subnormal for <class 'numpy.float64'> type is zero.\n",
      "  return self._float_to_str(self.smallest_subnormal)\n"
     ]
    },
    {
     "name": "stdout",
     "output_type": "stream",
     "text": [
      "WARNING:tensorflow:From /home/mu2047/.local/lib/python3.8/site-packages/tensorflow/python/compat/v2_compat.py:107: disable_resource_variables (from tensorflow.python.ops.variable_scope) is deprecated and will be removed in a future version.\n",
      "Instructions for updating:\n",
      "non-resource variables are not supported in the long term\n"
     ]
    }
   ],
   "source": [
    "#import clairvoyante\n",
    "import tensorflow.compat.v1 as tf \n",
    "tf.disable_v2_behavior()\n",
    "import clairvoyante.utils_v2 as utils\n",
    "import clairvoyante.clairvoyante_v2 as cv\n",
    "import clairvoyante.param as param\n",
    "from matplotlib import pyplot as plt"
   ]
  },
  {
   "cell_type": "markdown",
   "metadata": {},
   "source": [
    "## Train using the chr21+chr22 variants"
   ]
  },
  {
   "cell_type": "code",
   "execution_count": 3,
   "metadata": {
    "collapsed": false,
    "jupyter": {
     "outputs_hidden": false
    }
   },
   "outputs": [],
   "source": [
    "# Load the preprocessed and compressed tensors into memory\n",
    "with open(\"/scratch/mu2047/Project/Clairvoyante/Clairvoyante/training/tensor.bin\", \"rb\") as fh:\n",
    "    total = pickle.load(fh)\n",
    "    XArrayCompressed = pickle.load(fh)\n",
    "    YArrayCompressed = pickle.load(fh)\n",
    "    posArrayCompressed = pickle.load(fh)"
   ]
  },
  {
   "cell_type": "code",
   "execution_count": 4,
   "metadata": {},
   "outputs": [],
   "source": [
    "datasetSize = total"
   ]
  },
  {
   "cell_type": "code",
   "execution_count": 5,
   "metadata": {
    "collapsed": false,
    "jupyter": {
     "outputs_hidden": false
    }
   },
   "outputs": [
    {
     "name": "stdout",
     "output_type": "stream",
     "text": [
      "The size of training dataset: 280893\n"
     ]
    }
   ],
   "source": [
    "print(\"The size of training dataset: {}\".format(total))"
   ]
  },
  {
   "cell_type": "code",
   "execution_count": 6,
   "metadata": {},
   "outputs": [],
   "source": [
    "def calculateAccuracy(predicted, labels, top2=True, verbose=False):\n",
    "    \n",
    "    top1Count = 0\n",
    "    top2Count = 0\n",
    "    # Evaluating on bases\n",
    "    for predictV, annotateV in zip(predicted[0], labels[:,0:4]):\n",
    "        sortPredictV = predictV.argsort()[::-1]    \n",
    "        if np.argmax(annotateV) == sortPredictV[0]:\n",
    "            top1Count += 1\n",
    "            top2Count += 1\n",
    "        elif np.argmax(annotateV) == sortPredictV[1]: \n",
    "            top2Count += 1\n",
    "    \n",
    "    if verbose:\n",
    "        # Evaluating on zygosity\n",
    "        zygosityEval = np.zeros((2,2))\n",
    "        for predictV, annotateV in zip(predicted[1], labels[:,4:6]):\n",
    "            zygosityEval[np.argmax(annotateV)][np.argmax(predictV)] += 1\n",
    "\n",
    "        variantTypeEval = np.zeros((4,4))\n",
    "        for predictV, annotateV in zip(predicted[2], labels[:,6:10]):\n",
    "            variantTypeEval[np.argmax(annotateV)][np.argmax(predictV)] += 1\n",
    "\n",
    "        indelLengthEval = np.zeros((6,6))\n",
    "        for predictV, annotateV in zip(predicted[3], labels[:,10:16]):\n",
    "            indelLengthEval[np.argmax(annotateV)][np.argmax(predictV)] += 1\n",
    "    \n",
    "    return float(top1Count)*100/len(predicted[0]), float(top2Count)*100/len(predicted[0]) \n",
    "\n",
    "def plotGraph(losses, t1Acc, t2Acc, name=\"Training\"):\n",
    "    \n",
    "#     print(len(losses))\n",
    "#     print(t1Acc.shape)\n",
    "#     print(t2Acc.shape)\n",
    "    \n",
    "    epochs = np.arange(len(losses))\n",
    "    plt.figure()\n",
    "    plt.plot(epochs, losses, label= name + \" loss\")\n",
    "    plt.legend()\n",
    "    plt.savefig(name+\" Loss History.jpg\")\n",
    "    \n",
    "    plt.figure()\n",
    "    plt.plot(epochs, t1Acc, label= name + \" top1 accuracy\")\n",
    "    plt.plot(epochs, t2Acc, label= name + \" top2 accuracy\")\n",
    "    plt.legend()\n",
    "    plt.savefig(name+\" Acc History.jpg\")"
   ]
  },
  {
   "cell_type": "code",
   "execution_count": 7,
   "metadata": {
    "collapsed": false,
    "jupyter": {
     "outputs_hidden": false
    }
   },
   "outputs": [],
   "source": [
    "# training the model. The code train on all variants and validate on the first 10% variant sites\n",
    "def trainingAbstraction(epochs, model, savePath, modelName, initLr, reduceAfter, total, batchSize, threshold, constantLr=True):\n",
    "    \n",
    "    numValItems = int(total * 0.1 + 0.499)\n",
    "    trainingLosses = []\n",
    "    trainingAccuraciesT1 = []\n",
    "    trainingAccuraciesT2 = []\n",
    "    validationLosses = []\n",
    "    validationAccuraciesT1 = []\n",
    "    validationAccuraciesT2 = []\n",
    "    bestValAcc = 0\n",
    "    numBatches = total // trainBatchSize\n",
    "    valXArray, _, _ = utils.DecompressArray(XArrayCompressed, 0, numValItems, total)\n",
    "    valYArray, _, _ = utils.DecompressArray(YArrayCompressed, 0, numValItems, total)\n",
    "    print(\"Number of variants for validation: %d\" % len(valXArray))\n",
    "\n",
    "    trainingStart = time.time()\n",
    "    \n",
    "    print(\"Start at learning rate: %.2e\" % m.setLearningRate(initLr))\n",
    "    \n",
    "    for currentEpoch in range(epochs):\n",
    "        epochStartTime = time.time()\n",
    "        epochTrainingLoss = 0\n",
    "        epochValidationLoss = 0\n",
    "        datasetPtr = 0\n",
    "        \n",
    "        trainingBase = [] \n",
    "        trainingZ = []\n",
    "        trainingT = [] \n",
    "        trainingL = []\n",
    "        trainingLabels = np.empty((trainBatchSize, 16), dtype=float)\n",
    "\n",
    "        testingBase = [] \n",
    "        testingZ = []\n",
    "        testingT = [] \n",
    "        testingL = []\n",
    "\n",
    "        if currentEpoch % reduceAfter == 0 and not constantLr:\n",
    "            m.setLearningRate()\n",
    "\n",
    "\n",
    "        for batch in range(numBatches):\n",
    "            # Fetching data from compressed arrays in the tensor.bin file\n",
    "            XBatch, _, endFlag = utils.DecompressArray(XArrayCompressed, datasetPtr, trainBatchSize, total)\n",
    "            YBatch, _, _ = utils.DecompressArray(YArrayCompressed, datasetPtr, trainBatchSize, total)\n",
    "            epochTrainingLoss += m.train(XBatch, YBatch)[0]/trainBatchSize\n",
    "            trainPredObject = m.predict(XBatch)\n",
    "            trainingBase.append(trainPredObject[0])\n",
    "            trainingZ.append(trainPredObject[1])\n",
    "            trainingT.append(trainPredObject[2])\n",
    "            trainingL.append(trainPredObject[3])\n",
    "            datasetPtr += trainBatchSize\n",
    "\n",
    "\n",
    "        trainingBase = np.concatenate(trainingBase[:])\n",
    "        trainingZ = np.concatenate(trainingZ[:])\n",
    "        trainingT = np.concatenate(trainingT[:])\n",
    "        trainingL = np.concatenate(trainingL[:])\n",
    "\n",
    "        trainingLosses.append(float(epochTrainingLoss)/numBatches)\n",
    "        trainingLabels, _, _ = utils.DecompressArray(YArrayCompressed, 0, total, total)    \n",
    "        epochTrainingAccuracies = calculateAccuracy((trainingBase, trainingZ, trainingT, trainingL), trainingLabels)\n",
    "        trainingAccuraciesT1.append(epochTrainingAccuracies[0]/100)\n",
    "        trainingAccuraciesT2.append(epochTrainingAccuracies[1]/100)\n",
    "\n",
    "        epochValidationLoss = m.getLoss(valXArray, valYArray)\n",
    "        validationLosses.append(epochValidationLoss)\n",
    "        validationBase, validationZ, validationT, validationL = m.predict(valXArray)\n",
    "        epochValidationAccuracies = calculateAccuracy((validationBase, validationZ, validationT, validationL), valYArray)\n",
    "        validationAccuraciesT1.append(epochValidationAccuracies[0]/100)\n",
    "        validationAccuraciesT2.append(epochValidationAccuracies[1]/100)\n",
    "\n",
    "        if bestValAcc < epochTrainingAccuracies[0]:\n",
    "            bestValAcc = epochValidationAccuracies[0]\n",
    "#             print(\"Saving new model\")\n",
    "            m.saveParameters(savePath + modelName)\n",
    "\n",
    "        epochEndTime = time.time()\n",
    "        print(\"|\".join(\n",
    "            [\n",
    "            f\"Epoch: {currentEpoch+1}\",\n",
    "            \"EpochTime: %.2fs\" % (epochEndTime - epochStartTime),\n",
    "            \"TrainingLoss: %.2f\" % float(epochTrainingLoss/numBatches),\n",
    "            \"TrainingAccuracy:%2.3f, %2.3f\" % epochTrainingAccuracies,\n",
    "            \"ValidationLoss: %.2f\" % float(epochValidationLoss/numValItems),\n",
    "            \"ValidationAccuracy:%2.3f, %2.3f\" % epochValidationAccuracies, \n",
    "            ]))\n",
    "        \n",
    "        if epochValidationAccuracies[0] > threshold:\n",
    "            print(\"TTA 92: %.2fs\"%(time.time() - trainingStart))\n",
    "            break\n",
    "    \n",
    "    return trainingLosses, trainingAccuraciesT1, trainingAccuraciesT2, validationLosses, validationAccuraciesT1, validationAccuraciesT2\n",
    "    "
   ]
  },
  {
   "cell_type": "code",
   "execution_count": 8,
   "metadata": {},
   "outputs": [
    {
     "name": "stdout",
     "output_type": "stream",
     "text": [
      "WARNING:tensorflow:From ../clairvoyante/clairvoyante_v2.py:52: calling TruncatedNormal.__init__ (from tensorflow.python.ops.init_ops) with dtype is deprecated and will be removed in a future version.\n",
      "Instructions for updating:\n",
      "Call initializer instance with the dtype argument instead of passing it to the constructor\n"
     ]
    },
    {
     "name": "stderr",
     "output_type": "stream",
     "text": [
      "../clairvoyante/clairvoyante_v2.py:49: UserWarning: `tf.layers.conv2d` is deprecated and will be removed in a future version. Please Use `tf.keras.layers.Conv2D` instead.\n",
      "  conv1 = tf.compat.v1.layers.conv2d(inputs=XPH,\n",
      "../clairvoyante/clairvoyante_v2.py:58: UserWarning: `tf.layers.max_pooling2d` is deprecated and will be removed in a future version. Please use `tf.keras.layers.MaxPooling2D` instead.\n",
      "  pool1 = tf.compat.v1.layers.max_pooling2d(inputs=conv1,\n",
      "../clairvoyante/clairvoyante_v2.py:64: UserWarning: `tf.layers.conv2d` is deprecated and will be removed in a future version. Please Use `tf.keras.layers.Conv2D` instead.\n",
      "  conv2 = tf.compat.v1.layers.conv2d(inputs=pool1,\n",
      "../clairvoyante/clairvoyante_v2.py:73: UserWarning: `tf.layers.max_pooling2d` is deprecated and will be removed in a future version. Please use `tf.keras.layers.MaxPooling2D` instead.\n",
      "  pool2 = tf.compat.v1.layers.max_pooling2d(inputs=conv2,\n",
      "../clairvoyante/clairvoyante_v2.py:79: UserWarning: `tf.layers.conv2d` is deprecated and will be removed in a future version. Please Use `tf.keras.layers.Conv2D` instead.\n",
      "  conv3 = tf.compat.v1.layers.conv2d(inputs=pool2,\n",
      "../clairvoyante/clairvoyante_v2.py:88: UserWarning: `tf.layers.max_pooling2d` is deprecated and will be removed in a future version. Please use `tf.keras.layers.MaxPooling2D` instead.\n",
      "  pool3 = tf.compat.v1.layers.max_pooling2d(inputs=conv3,\n",
      "../clairvoyante/clairvoyante_v2.py:99: UserWarning: `tf.layers.dense` is deprecated and will be removed in a future version. Please use `tf.keras.layers.Dense` instead.\n",
      "  fc4 = tf.compat.v1.layers.dense(inputs=conv3_flat,\n",
      "../clairvoyante/clairvoyante_v2.py:109: UserWarning: `tf.layers.dense` is deprecated and will be removed in a future version. Please use `tf.keras.layers.Dense` instead.\n",
      "  fc5 = tf.compat.v1.layers.dense(inputs=dropout4,\n",
      "../clairvoyante/clairvoyante_v2.py:120: UserWarning: `tf.layers.dense` is deprecated and will be removed in a future version. Please use `tf.keras.layers.Dense` instead.\n",
      "  YBaseChangeSigmoid = tf.compat.v1.layers.dense(inputs=dropout5, units=self.outputShape1[0], activation=tf.nn.sigmoid, name='YBaseChangeSigmoid')\n",
      "../clairvoyante/clairvoyante_v2.py:122: UserWarning: `tf.layers.dense` is deprecated and will be removed in a future version. Please use `tf.keras.layers.Dense` instead.\n",
      "  YZygosityFC = tf.compat.v1.layers.dense(inputs=dropout5, units=self.outputShape2[0], activation=selu.selu, name='YZygosityFC')\n",
      "../clairvoyante/clairvoyante_v2.py:126: UserWarning: `tf.layers.dense` is deprecated and will be removed in a future version. Please use `tf.keras.layers.Dense` instead.\n",
      "  YVarTypeFC = tf.compat.v1.layers.dense(inputs=dropout5, units=self.outputShape3[0], activation=selu.selu, name='YVarTypeFC')\n",
      "../clairvoyante/clairvoyante_v2.py:130: UserWarning: `tf.layers.dense` is deprecated and will be removed in a future version. Please use `tf.keras.layers.Dense` instead.\n",
      "  YIndelLengthFC = tf.compat.v1.layers.dense(inputs=dropout5, units=self.outputShape4[0], activation=selu.selu, name='YIndelLengthFC')\n"
     ]
    }
   ],
   "source": [
    "# create a Clairvoyante network\n",
    "m = cv.Clairvoyante()\n",
    "m.init()\n",
    "trainBatchSize = 2048\n",
    "epochs = 100\n",
    "savePath = \"./savedModels/\"\n",
    "modelName = \"ReduceAfter10LR,initLR=0.003\"\n",
    "reduceAfter = 10 \n",
    "initLr = 0.003\n",
    "t1Threshold = 92"
   ]
  },
  {
   "cell_type": "code",
   "execution_count": 9,
   "metadata": {},
   "outputs": [
    {
     "name": "stdout",
     "output_type": "stream",
     "text": [
      "Number of variants for validation: 28089\n",
      "Start at learning rate: 3.00e-03\n",
      "Epoch: 1|EpochTime: 23.02s|TrainingLoss: 2.14|TrainingAccuracy:31.351, 57.418|ValidationLoss: 0.86|ValidationAccuracy:40.785, 69.768\n",
      "Epoch: 2|EpochTime: 22.29s|TrainingLoss: 0.73|TrainingAccuracy:47.670, 77.390|ValidationLoss: 0.61|ValidationAccuracy:52.035, 83.292\n",
      "Epoch: 3|EpochTime: 22.39s|TrainingLoss: 0.58|TrainingAccuracy:52.799, 86.568|ValidationLoss: 0.54|ValidationAccuracy:55.224, 89.693\n",
      "Epoch: 4|EpochTime: 22.12s|TrainingLoss: 0.52|TrainingAccuracy:57.326, 90.541|ValidationLoss: 0.48|ValidationAccuracy:58.247, 92.328\n",
      "Epoch: 5|EpochTime: 22.06s|TrainingLoss: 0.47|TrainingAccuracy:62.603, 93.093|ValidationLoss: 0.43|ValidationAccuracy:67.226, 94.678\n",
      "Epoch: 6|EpochTime: 21.95s|TrainingLoss: 0.41|TrainingAccuracy:68.043, 95.142|ValidationLoss: 0.36|ValidationAccuracy:73.310, 96.048\n",
      "Epoch: 7|EpochTime: 21.69s|TrainingLoss: 0.30|TrainingAccuracy:72.350, 96.224|ValidationLoss: 0.23|ValidationAccuracy:78.070, 96.493\n",
      "Epoch: 8|EpochTime: 22.02s|TrainingLoss: 0.23|TrainingAccuracy:75.721, 97.008|ValidationLoss: 0.20|ValidationAccuracy:76.699, 97.188\n",
      "Epoch: 9|EpochTime: 21.78s|TrainingLoss: 0.20|TrainingAccuracy:76.634, 97.373|ValidationLoss: 0.18|ValidationAccuracy:78.394, 97.504\n",
      "Epoch: 10|EpochTime: 22.01s|TrainingLoss: 0.19|TrainingAccuracy:77.225, 97.572|ValidationLoss: 0.18|ValidationAccuracy:77.888, 97.672\n",
      "Epoch: 11|EpochTime: 21.86s|TrainingLoss: 0.18|TrainingAccuracy:77.559, 97.773|ValidationLoss: 0.17|ValidationAccuracy:76.215, 97.650\n",
      "Epoch: 12|EpochTime: 21.69s|TrainingLoss: 0.17|TrainingAccuracy:77.642, 97.750|ValidationLoss: 0.17|ValidationAccuracy:76.065, 97.451\n",
      "Epoch: 13|EpochTime: 22.03s|TrainingLoss: 0.17|TrainingAccuracy:78.136, 97.816|ValidationLoss: 0.16|ValidationAccuracy:81.092, 97.515\n",
      "Epoch: 14|EpochTime: 21.70s|TrainingLoss: 0.17|TrainingAccuracy:78.070, 97.797|ValidationLoss: 0.16|ValidationAccuracy:78.643, 97.298\n",
      "Epoch: 15|EpochTime: 21.75s|TrainingLoss: 0.16|TrainingAccuracy:77.960, 97.939|ValidationLoss: 0.16|ValidationAccuracy:79.230, 97.643\n",
      "Epoch: 16|EpochTime: 21.66s|TrainingLoss: 0.16|TrainingAccuracy:78.599, 97.926|ValidationLoss: 0.16|ValidationAccuracy:82.940, 97.843\n",
      "Epoch: 17|EpochTime: 21.78s|TrainingLoss: 0.16|TrainingAccuracy:78.774, 98.038|ValidationLoss: 0.15|ValidationAccuracy:77.707, 97.625\n",
      "Epoch: 18|EpochTime: 21.66s|TrainingLoss: 0.16|TrainingAccuracy:78.543, 98.040|ValidationLoss: 0.15|ValidationAccuracy:78.707, 97.857\n",
      "Epoch: 19|EpochTime: 21.64s|TrainingLoss: 0.15|TrainingAccuracy:78.887, 98.172|ValidationLoss: 0.15|ValidationAccuracy:83.591, 97.971\n",
      "Epoch: 20|EpochTime: 21.69s|TrainingLoss: 0.15|TrainingAccuracy:79.274, 98.130|ValidationLoss: 0.15|ValidationAccuracy:83.097, 97.857\n",
      "Epoch: 21|EpochTime: 21.69s|TrainingLoss: 0.15|TrainingAccuracy:79.567, 98.217|ValidationLoss: 0.14|ValidationAccuracy:82.363, 98.067\n",
      "Epoch: 22|EpochTime: 21.71s|TrainingLoss: 0.15|TrainingAccuracy:79.092, 98.160|ValidationLoss: 0.14|ValidationAccuracy:82.345, 98.106\n",
      "Epoch: 23|EpochTime: 21.83s|TrainingLoss: 0.15|TrainingAccuracy:79.492, 98.228|ValidationLoss: 0.14|ValidationAccuracy:83.025, 98.313\n",
      "Epoch: 24|EpochTime: 21.71s|TrainingLoss: 0.14|TrainingAccuracy:79.775, 98.314|ValidationLoss: 0.14|ValidationAccuracy:83.200, 98.085\n",
      "Epoch: 25|EpochTime: 21.75s|TrainingLoss: 0.25|TrainingAccuracy:78.077, 96.858|ValidationLoss: 0.29|ValidationAccuracy:76.432, 96.084\n",
      "Epoch: 26|EpochTime: 21.75s|TrainingLoss: 0.26|TrainingAccuracy:76.750, 96.699|ValidationLoss: 0.23|ValidationAccuracy:70.437, 97.102\n",
      "Epoch: 27|EpochTime: 21.62s|TrainingLoss: 0.22|TrainingAccuracy:78.594, 97.507|ValidationLoss: 0.21|ValidationAccuracy:75.631, 97.661\n",
      "Epoch: 28|EpochTime: 21.65s|TrainingLoss: 0.22|TrainingAccuracy:79.057, 97.971|ValidationLoss: 0.21|ValidationAccuracy:72.804, 97.647\n",
      "Epoch: 29|EpochTime: 21.64s|TrainingLoss: 0.21|TrainingAccuracy:79.709, 98.046|ValidationLoss: 0.21|ValidationAccuracy:80.975, 97.800\n",
      "Epoch: 30|EpochTime: 21.74s|TrainingLoss: 0.21|TrainingAccuracy:80.732, 98.278|ValidationLoss: 0.20|ValidationAccuracy:82.915, 98.149\n",
      "Epoch: 31|EpochTime: 21.66s|TrainingLoss: 0.20|TrainingAccuracy:80.680, 98.435|ValidationLoss: 0.21|ValidationAccuracy:83.371, 98.213\n",
      "Epoch: 32|EpochTime: 22.10s|TrainingLoss: 0.20|TrainingAccuracy:81.145, 98.483|ValidationLoss: 0.20|ValidationAccuracy:77.390, 98.444\n",
      "Epoch: 33|EpochTime: 21.90s|TrainingLoss: 0.20|TrainingAccuracy:81.703, 98.533|ValidationLoss: 0.20|ValidationAccuracy:82.420, 98.206\n",
      "Epoch: 34|EpochTime: 21.74s|TrainingLoss: 0.20|TrainingAccuracy:81.671, 98.592|ValidationLoss: 0.19|ValidationAccuracy:84.923, 98.686\n",
      "Epoch: 35|EpochTime: 21.75s|TrainingLoss: 0.19|TrainingAccuracy:81.949, 98.718|ValidationLoss: 0.19|ValidationAccuracy:80.459, 98.718\n",
      "Epoch: 36|EpochTime: 21.63s|TrainingLoss: 0.19|TrainingAccuracy:82.288, 98.620|ValidationLoss: 0.18|ValidationAccuracy:81.487, 98.523\n",
      "Epoch: 37|EpochTime: 21.83s|TrainingLoss: 0.19|TrainingAccuracy:81.996, 98.553|ValidationLoss: 0.19|ValidationAccuracy:85.510, 98.120\n",
      "Epoch: 38|EpochTime: 21.83s|TrainingLoss: 0.19|TrainingAccuracy:82.157, 98.379|ValidationLoss: 0.18|ValidationAccuracy:86.112, 98.526\n",
      "Epoch: 39|EpochTime: 21.96s|TrainingLoss: 0.19|TrainingAccuracy:82.443, 98.449|ValidationLoss: 0.18|ValidationAccuracy:87.063, 98.177\n",
      "Epoch: 40|EpochTime: 21.64s|TrainingLoss: 0.18|TrainingAccuracy:82.499, 98.351|ValidationLoss: 0.18|ValidationAccuracy:80.405, 98.224\n",
      "Epoch: 41|EpochTime: 21.71s|TrainingLoss: 0.18|TrainingAccuracy:83.206, 98.368|ValidationLoss: 0.18|ValidationAccuracy:88.209, 98.017\n",
      "Epoch: 42|EpochTime: 21.63s|TrainingLoss: 0.18|TrainingAccuracy:83.146, 98.289|ValidationLoss: 0.27|ValidationAccuracy:81.584, 97.996\n",
      "Epoch: 43|EpochTime: 21.69s|TrainingLoss: 0.19|TrainingAccuracy:82.661, 98.406|ValidationLoss: 0.18|ValidationAccuracy:75.261, 98.245\n",
      "Epoch: 44|EpochTime: 21.69s|TrainingLoss: 0.18|TrainingAccuracy:83.014, 98.395|ValidationLoss: 0.18|ValidationAccuracy:84.873, 97.981\n",
      "Epoch: 45|EpochTime: 21.65s|TrainingLoss: 0.18|TrainingAccuracy:83.302, 98.363|ValidationLoss: 0.17|ValidationAccuracy:82.004, 98.387\n",
      "Epoch: 46|EpochTime: 21.66s|TrainingLoss: 0.18|TrainingAccuracy:83.560, 98.620|ValidationLoss: 0.18|ValidationAccuracy:83.186, 98.540\n",
      "Epoch: 47|EpochTime: 21.69s|TrainingLoss: 0.17|TrainingAccuracy:83.705, 98.629|ValidationLoss: 0.17|ValidationAccuracy:83.766, 98.547\n",
      "Epoch: 48|EpochTime: 21.69s|TrainingLoss: 0.17|TrainingAccuracy:83.795, 98.460|ValidationLoss: 0.17|ValidationAccuracy:82.958, 98.423\n",
      "Epoch: 49|EpochTime: 21.63s|TrainingLoss: 0.17|TrainingAccuracy:83.792, 98.326|ValidationLoss: 0.17|ValidationAccuracy:83.211, 98.085\n",
      "Epoch: 50|EpochTime: 21.86s|TrainingLoss: 1.14|TrainingAccuracy:66.315, 83.191|ValidationLoss: 8.68|ValidationAccuracy:21.685, 41.009\n",
      "Epoch: 51|EpochTime: 22.09s|TrainingLoss: 4.78|TrainingAccuracy:21.727, 41.331|ValidationLoss: 4.74|ValidationAccuracy:21.685, 41.009\n",
      "Epoch: 52|EpochTime: 22.05s|TrainingLoss: 4.74|TrainingAccuracy:21.727, 41.331|ValidationLoss: 4.74|ValidationAccuracy:21.685, 41.009\n",
      "Epoch: 53|EpochTime: 22.10s|TrainingLoss: 4.74|TrainingAccuracy:21.727, 41.331|ValidationLoss: 4.74|ValidationAccuracy:21.685, 41.009\n",
      "Epoch: 54|EpochTime: 22.02s|TrainingLoss: 4.74|TrainingAccuracy:21.727, 41.331|ValidationLoss: 4.74|ValidationAccuracy:21.685, 41.009\n",
      "Epoch: 55|EpochTime: 22.17s|TrainingLoss: 4.74|TrainingAccuracy:21.727, 41.331|ValidationLoss: 4.74|ValidationAccuracy:21.685, 41.009\n",
      "Epoch: 56|EpochTime: 22.12s|TrainingLoss: 4.75|TrainingAccuracy:21.727, 41.331|ValidationLoss: 4.74|ValidationAccuracy:21.685, 41.009\n",
      "Epoch: 57|EpochTime: 22.14s|TrainingLoss: 4.74|TrainingAccuracy:21.727, 41.331|ValidationLoss: 4.74|ValidationAccuracy:21.685, 41.009\n",
      "Epoch: 58|EpochTime: 22.12s|TrainingLoss: 4.74|TrainingAccuracy:21.727, 41.331|ValidationLoss: 4.74|ValidationAccuracy:21.685, 41.009\n",
      "Epoch: 59|EpochTime: 21.99s|TrainingLoss: 4.74|TrainingAccuracy:21.727, 41.331|ValidationLoss: 4.74|ValidationAccuracy:21.685, 41.009\n",
      "Epoch: 60|EpochTime: 22.08s|TrainingLoss: 4.74|TrainingAccuracy:21.727, 41.331|ValidationLoss: 4.74|ValidationAccuracy:21.685, 41.009\n",
      "Epoch: 61|EpochTime: 22.16s|TrainingLoss: 4.74|TrainingAccuracy:21.727, 41.331|ValidationLoss: 4.74|ValidationAccuracy:21.685, 41.009\n",
      "Epoch: 62|EpochTime: 21.93s|TrainingLoss: 4.74|TrainingAccuracy:21.727, 41.331|ValidationLoss: 4.74|ValidationAccuracy:21.685, 41.009\n",
      "Epoch: 63|EpochTime: 22.14s|TrainingLoss: 4.74|TrainingAccuracy:21.727, 41.331|ValidationLoss: 4.74|ValidationAccuracy:21.685, 41.009\n",
      "Epoch: 64|EpochTime: 22.11s|TrainingLoss: 4.74|TrainingAccuracy:21.727, 41.331|ValidationLoss: 4.74|ValidationAccuracy:21.685, 41.009\n",
      "Epoch: 65|EpochTime: 22.01s|TrainingLoss: 4.74|TrainingAccuracy:21.727, 41.331|ValidationLoss: 4.74|ValidationAccuracy:21.685, 41.009\n",
      "Epoch: 66|EpochTime: 22.10s|TrainingLoss: 4.74|TrainingAccuracy:21.727, 41.331|ValidationLoss: 4.74|ValidationAccuracy:21.685, 41.009\n",
      "Epoch: 67|EpochTime: 22.20s|TrainingLoss: 4.74|TrainingAccuracy:21.727, 41.331|ValidationLoss: 4.74|ValidationAccuracy:21.685, 41.009\n",
      "Epoch: 68|EpochTime: 22.17s|TrainingLoss: 4.74|TrainingAccuracy:21.727, 41.331|ValidationLoss: 4.74|ValidationAccuracy:21.685, 41.009\n",
      "Epoch: 69|EpochTime: 22.20s|TrainingLoss: 4.74|TrainingAccuracy:21.727, 41.331|ValidationLoss: 4.74|ValidationAccuracy:21.685, 41.009\n",
      "Epoch: 70|EpochTime: 22.08s|TrainingLoss: 4.74|TrainingAccuracy:21.727, 41.331|ValidationLoss: 4.74|ValidationAccuracy:21.685, 41.009\n",
      "Epoch: 71|EpochTime: 22.02s|TrainingLoss: 4.74|TrainingAccuracy:21.727, 41.331|ValidationLoss: 4.74|ValidationAccuracy:21.685, 41.009\n",
      "Epoch: 72|EpochTime: 21.96s|TrainingLoss: 4.74|TrainingAccuracy:21.727, 41.331|ValidationLoss: 4.74|ValidationAccuracy:21.685, 41.009\n",
      "Epoch: 73|EpochTime: 22.10s|TrainingLoss: 4.74|TrainingAccuracy:21.727, 41.331|ValidationLoss: 4.74|ValidationAccuracy:21.685, 41.009\n",
      "Epoch: 74|EpochTime: 22.02s|TrainingLoss: 4.74|TrainingAccuracy:21.727, 41.331|ValidationLoss: 4.74|ValidationAccuracy:21.685, 41.009\n",
      "Epoch: 75|EpochTime: 22.00s|TrainingLoss: 4.74|TrainingAccuracy:21.727, 41.331|ValidationLoss: 4.74|ValidationAccuracy:21.685, 41.009\n",
      "Epoch: 76|EpochTime: 22.10s|TrainingLoss: 4.74|TrainingAccuracy:21.727, 41.331|ValidationLoss: 4.74|ValidationAccuracy:21.685, 41.009\n",
      "Epoch: 77|EpochTime: 22.11s|TrainingLoss: 4.74|TrainingAccuracy:21.727, 41.331|ValidationLoss: 4.74|ValidationAccuracy:21.685, 41.009\n",
      "Epoch: 78|EpochTime: 22.14s|TrainingLoss: 4.74|TrainingAccuracy:21.727, 41.331|ValidationLoss: 4.74|ValidationAccuracy:21.685, 41.009\n",
      "Epoch: 79|EpochTime: 22.10s|TrainingLoss: 4.74|TrainingAccuracy:21.727, 41.331|ValidationLoss: 4.74|ValidationAccuracy:21.685, 41.009\n",
      "Epoch: 80|EpochTime: 22.18s|TrainingLoss: 4.74|TrainingAccuracy:21.727, 41.331|ValidationLoss: 4.74|ValidationAccuracy:21.685, 41.009\n",
      "Epoch: 81|EpochTime: 22.12s|TrainingLoss: 4.74|TrainingAccuracy:21.727, 41.331|ValidationLoss: 4.74|ValidationAccuracy:21.685, 41.009\n",
      "Epoch: 82|EpochTime: 22.09s|TrainingLoss: 4.74|TrainingAccuracy:21.727, 41.331|ValidationLoss: 4.74|ValidationAccuracy:21.685, 41.009\n",
      "Epoch: 83|EpochTime: 22.13s|TrainingLoss: 4.74|TrainingAccuracy:21.727, 41.331|ValidationLoss: 4.74|ValidationAccuracy:21.685, 41.009\n",
      "Epoch: 84|EpochTime: 22.11s|TrainingLoss: 4.74|TrainingAccuracy:21.727, 41.331|ValidationLoss: 4.74|ValidationAccuracy:21.685, 41.009\n",
      "Epoch: 85|EpochTime: 22.09s|TrainingLoss: 4.74|TrainingAccuracy:21.727, 41.331|ValidationLoss: 4.74|ValidationAccuracy:21.685, 41.009\n",
      "Epoch: 86|EpochTime: 22.09s|TrainingLoss: 4.74|TrainingAccuracy:21.727, 41.331|ValidationLoss: 4.74|ValidationAccuracy:21.685, 41.009\n",
      "Epoch: 87|EpochTime: 22.10s|TrainingLoss: 4.74|TrainingAccuracy:21.727, 41.331|ValidationLoss: 4.74|ValidationAccuracy:21.685, 41.009\n",
      "Epoch: 88|EpochTime: 21.98s|TrainingLoss: 4.74|TrainingAccuracy:21.727, 41.331|ValidationLoss: 4.74|ValidationAccuracy:21.685, 41.009\n",
      "Epoch: 89|EpochTime: 22.10s|TrainingLoss: 4.74|TrainingAccuracy:21.727, 41.331|ValidationLoss: 4.74|ValidationAccuracy:21.685, 41.009\n",
      "Epoch: 90|EpochTime: 22.10s|TrainingLoss: 4.74|TrainingAccuracy:21.727, 41.331|ValidationLoss: 4.74|ValidationAccuracy:21.685, 41.009\n",
      "Epoch: 91|EpochTime: 22.08s|TrainingLoss: 4.74|TrainingAccuracy:21.727, 41.331|ValidationLoss: 4.74|ValidationAccuracy:21.685, 41.009\n",
      "Epoch: 92|EpochTime: 22.16s|TrainingLoss: 4.74|TrainingAccuracy:21.727, 41.331|ValidationLoss: 4.74|ValidationAccuracy:21.685, 41.009\n",
      "Epoch: 93|EpochTime: 22.13s|TrainingLoss: 4.74|TrainingAccuracy:21.727, 41.331|ValidationLoss: 4.74|ValidationAccuracy:21.685, 41.009\n",
      "Epoch: 94|EpochTime: 22.04s|TrainingLoss: 4.74|TrainingAccuracy:21.727, 41.331|ValidationLoss: 4.74|ValidationAccuracy:21.685, 41.009\n",
      "Epoch: 95|EpochTime: 22.06s|TrainingLoss: 4.74|TrainingAccuracy:21.727, 41.331|ValidationLoss: 4.74|ValidationAccuracy:21.685, 41.009\n",
      "Epoch: 96|EpochTime: 22.12s|TrainingLoss: 4.74|TrainingAccuracy:21.727, 41.331|ValidationLoss: 4.74|ValidationAccuracy:21.685, 41.009\n",
      "Epoch: 97|EpochTime: 22.15s|TrainingLoss: 4.74|TrainingAccuracy:21.727, 41.331|ValidationLoss: 4.74|ValidationAccuracy:21.685, 41.009\n",
      "Epoch: 98|EpochTime: 22.09s|TrainingLoss: 4.74|TrainingAccuracy:21.727, 41.331|ValidationLoss: 4.74|ValidationAccuracy:21.685, 41.009\n",
      "Epoch: 99|EpochTime: 22.01s|TrainingLoss: 4.74|TrainingAccuracy:21.727, 41.331|ValidationLoss: 4.74|ValidationAccuracy:21.685, 41.009\n",
      "Epoch: 100|EpochTime: 22.12s|TrainingLoss: 4.74|TrainingAccuracy:21.727, 41.331|ValidationLoss: 4.74|ValidationAccuracy:21.685, 41.009\n"
     ]
    }
   ],
   "source": [
    "returnObject = trainingAbstraction(epochs, m, savePath, modelName, initLr, reduceAfter, datasetSize, trainBatchSize, t1Threshold)"
   ]
  },
  {
   "cell_type": "code",
   "execution_count": 10,
   "metadata": {},
   "outputs": [
    {
     "data": {
      "image/png": "[encoded data removed]",
      "text/plain": [
       "<Figure size 432x288 with 1 Axes>"
      ]
     },
     "metadata": {
      "needs_background": "light"
     },
     "output_type": "display_data"
    },
    {
     "data": {
      "image/png": "[encoded data removed]",
      "text/plain": [
       "<Figure size 432x288 with 1 Axes>"
      ]
     },
     "metadata": {
      "needs_background": "light"
     },
     "output_type": "display_data"
    }
   ],
   "source": [
    "plotGraph(returnObject[0], returnObject[1], returnObject[2], modelName + \" Training\")"
   ]
  },
  {
   "cell_type": "code",
   "execution_count": 11,
   "metadata": {},
   "outputs": [
    {
     "data": {
      "image/png": "[encoded data removed]",
      "text/plain": [
       "<Figure size 432x288 with 1 Axes>"
      ]
     },
     "metadata": {
      "needs_background": "light"
     },
     "output_type": "display_data"
    },
    {
     "data": {
      "image/png": "[encoded data removed]",
      "text/plain": [
       "<Figure size 432x288 with 1 Axes>"
      ]
     },
     "metadata": {
      "needs_background": "light"
     },
     "output_type": "display_data"
    }
   ],
   "source": [
    "plotGraph(returnObject[3], returnObject[4], returnObject[5], modelName + \" Testing \")"
   ]
  },
  {
   "cell_type": "code",
   "execution_count": 12,
   "metadata": {},
   "outputs": [
    {
     "ename": "NameError",
     "evalue": "name 'trainingBase' is not defined",
     "output_type": "error",
     "traceback": [
      "\u001b[0;31m---------------------------------------------------------------------------\u001b[0m",
      "\u001b[0;31mNameError\u001b[0m                                 Traceback (most recent call last)",
      "\u001b[0;32m<ipython-input-12-a5096f9ee368>\u001b[0m in \u001b[0;36m<module>\u001b[0;34m\u001b[0m\n\u001b[0;32m----> 1\u001b[0;31m \u001b[0mtrainingBase\u001b[0m\u001b[0;34m.\u001b[0m\u001b[0mshape\u001b[0m\u001b[0;34m,\u001b[0m \u001b[0mtrainingZ\u001b[0m\u001b[0;34m.\u001b[0m\u001b[0mshape\u001b[0m\u001b[0;34m,\u001b[0m \u001b[0mtrainingT\u001b[0m\u001b[0;34m.\u001b[0m\u001b[0mshape\u001b[0m\u001b[0;34m,\u001b[0m \u001b[0mtrainingL\u001b[0m\u001b[0;34m.\u001b[0m\u001b[0mshape\u001b[0m\u001b[0;34m\u001b[0m\u001b[0;34m\u001b[0m\u001b[0m\n\u001b[0m",
      "\u001b[0;31mNameError\u001b[0m: name 'trainingBase' is not defined"
     ]
    }
   ],
   "source": [
    "trainingBase.shape, trainingZ.shape, trainingT.shape, trainingL.shape "
   ]
  },
  {
   "cell_type": "markdown",
   "metadata": {},
   "source": [
    "## Testing on the training dataset"
   ]
  },
  {
   "cell_type": "markdown",
   "metadata": {},
   "source": [
    "## Testing on the chr22 variants"
   ]
  },
  {
   "cell_type": "code",
   "execution_count": null,
   "metadata": {
    "collapsed": false,
    "jupyter": {
     "outputs_hidden": false
    }
   },
   "outputs": [],
   "source": [
    "total, XArrayCompressed, YArrayCompressed, posArrayCompressed = \\\n",
    "utils.GetTrainingArray(\"/scratch/mu2047/Project/Clairvoyante/Clairvoyante/training/tensor_can_mix_sampled\",\n",
    "                       \"/scratch/mu2047/Project/Clairvoyante/Clairvoyante/training/var_mul_sampled\",\n",
    "                       \"/scratch/mu2047/Project/Clairvoyante/Clairvoyante/training/bed\")\n",
    "YArray, _, _ = utils.DecompressArray(YArrayCompressed, 0, total, total)"
   ]
  },
  {
   "cell_type": "code",
   "execution_count": null,
   "metadata": {
    "collapsed": false,
    "jupyter": {
     "outputs_hidden": false
    }
   },
   "outputs": [],
   "source": [
    "print(\"Testing on the training and validation dataset ...\")\n",
    "predictStart = time.time()\n",
    "predictBatchSize = param.predictBatchSize\n",
    "datasetPtr = 0\n",
    "XBatch, _, _ = utils.DecompressArray(XArrayCompressed, datasetPtr, predictBatchSize, total)\n",
    "print(XBatch.shape)\n",
    "bases = []; zs = []; ts = []; ls = []\n",
    "base, z, t, l = m.predict(XBatch)\n",
    "bases.append(base); zs.append(z); ts.append(t); ls.append(l)\n",
    "datasetPtr += predictBatchSize\n",
    "while datasetPtr < total:\n",
    "    XBatch, _, endFlag = utils.DecompressArray(XArrayCompressed, datasetPtr, predictBatchSize, total)\n",
    "    base, z, t, l = m.predict(XBatch)\n",
    "    bases.append(base); zs.append(z); ts.append(t); ls.append(l)\n",
    "    datasetPtr += predictBatchSize\n",
    "    if endFlag != 0:\n",
    "        break\n",
    "bases = np.concatenate(bases[:]); zs = np.concatenate(zs[:]); ts = np.concatenate(ts[:]); ls = np.concatenate(ls[:])\n",
    "print(\"Prediciton time elapsed: %.2f s\" % (time.time() - predictStart))\n",
    "\n",
    "# Evaluate the trained model\n",
    "YArray, _, _ = utils.DecompressArray(YArrayCompressed, 0, total, total)\n",
    "print(\"Version 2 model, evaluation on base change:\")\n",
    "allBaseCount = top1Count = top2Count = 0\n",
    "for predictV, annotateV in zip(bases, YArray[:,0:4]):\n",
    "    allBaseCount += 1\n",
    "    sortPredictV = predictV.argsort()[::-1]\n",
    "    if np.argmax(annotateV) == sortPredictV[0]: top1Count += 1; top2Count += 1\n",
    "    elif np.argmax(annotateV) == sortPredictV[1]: top2Count += 1\n",
    "print(\"all/top1/top2/top1p/top2p: %d/%d/%d/%.2f/%.2f\" %\\\n",
    "            (allBaseCount, top1Count, top2Count, float(top1Count)/allBaseCount*100, float(top2Count)/allBaseCount*100))\n",
    "print(\"Version 2 model, evaluation on Zygosity:\")\n",
    "ed = np.zeros( (2,2))\n",
    "for predictV, annotateV in zip(zs, YArray[:,4:6]):\n",
    "    ed[np.argmax(annotateV)][np.argmax(predictV)] += 1\n",
    "for i in range(2):\n",
    "    print(\"\\t\".join([str(ed[i][j]) for j in range(2)]))\n",
    "print(\"Version 2 model, evaluation on variant type:\")\n",
    "ed = np.zeros( (4,4))\n",
    "for predictV, annotateV in zip(ts, YArray[:,6:10]):\n",
    "    ed[np.argmax(annotateV)][np.argmax(predictV)] += 1\n",
    "for i in range(4):\n",
    "    print(\"\\t\".join([str(ed[i][j]) for j in range(4)]))\n",
    "print(\"Version 2 model, evaluation on indel length:\")\n",
    "ed = np.zeros( (6,6) )\n",
    "for predictV, annotateV in zip(ls, YArray[:,10:16]):\n",
    "    ed[np.argmax(annotateV)][np.argmax(predictV)] += 1\n",
    "for i in range(6):\n",
    "    print(\"\\t\".join([str(ed[i][j]) for j in range(6)]))"
   ]
  },
  {
   "cell_type": "markdown",
   "metadata": {},
   "source": [
    "## Visualizing predictions"
   ]
  },
  {
   "cell_type": "code",
   "execution_count": null,
   "metadata": {
    "collapsed": false,
    "jupyter": {
     "outputs_hidden": false
    }
   },
   "outputs": [],
   "source": [
    "# Compare the output of the expected calls and the predicted calls\n",
    "arrayStart = 0\n",
    "arrayEnd = 100\n",
    "figure(figsize=(20, 5))\n",
    "matshow(YArray[arrayStart:arrayEnd,:].transpose(), fignum=0, cmap=cm.PuRd)\n",
    "figure(figsize=(20, 5))\n",
    "matshow(np.concatenate( (bases[arrayStart:arrayEnd,:],zs[arrayStart:arrayEnd,:],\\\n",
    "                         ts[arrayStart:arrayEnd,:],ls[arrayStart:arrayEnd,:]),1).transpose(), fignum=0, cmap=cm.PuRd)"
   ]
  },
  {
   "cell_type": "code",
   "execution_count": null,
   "metadata": {},
   "outputs": [],
   "source": []
  }
 ],
 "metadata": {
  "kernelspec": {
   "display_name": "Python 3",
   "language": "python",
   "name": "python3"
  },
  "language_info": {
   "codemirror_mode": {
    "name": "ipython",
    "version": 3
   },
   "file_extension": ".py",
   "mimetype": "text/x-python",
   "name": "python",
   "nbconvert_exporter": "python",
   "pygments_lexer": "ipython3",
   "version": "3.8.6"
  }
 },
 "nbformat": 4,
 "nbformat_minor": 4
}
