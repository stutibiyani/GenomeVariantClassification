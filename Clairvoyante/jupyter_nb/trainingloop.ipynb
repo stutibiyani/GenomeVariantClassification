{
 "cells": [
  {
   "cell_type": "markdown",
   "metadata": {},
   "source": [
    "# Clairvoyante (Model Training Demo)\n"
   ]
  },
  {
   "cell_type": "code",
   "execution_count": 1,
   "metadata": {
    "collapsed": false,
    "jupyter": {
     "outputs_hidden": false
    }
   },
   "outputs": [
    {
     "name": "stdout",
     "output_type": "stream",
     "text": [
      "Populating the interactive namespace from numpy and matplotlib\n"
     ]
    }
   ],
   "source": [
    "%matplotlib inline\n",
    "%pylab inline\n",
    "import sys\n",
    "sys.path.append('../')\n",
    "import numpy as np\n",
    "import time\n",
    "import pickle\n",
    "from random import randrange"
   ]
  },
  {
   "cell_type": "code",
   "execution_count": 2,
   "metadata": {
    "collapsed": false,
    "jupyter": {
     "outputs_hidden": false
    }
   },
   "outputs": [
    {
     "name": "stderr",
     "output_type": "stream",
     "text": [
      "/home/mu2047/.local/lib/python3.8/site-packages/numpy/core/getlimits.py:500: UserWarning: The value of the smallest subnormal for <class 'numpy.float32'> type is zero.\n",
      "  setattr(self, word, getattr(machar, word).flat[0])\n",
      "/home/mu2047/.local/lib/python3.8/site-packages/numpy/core/getlimits.py:89: UserWarning: The value of the smallest subnormal for <class 'numpy.float32'> type is zero.\n",
      "  return self._float_to_str(self.smallest_subnormal)\n",
      "/home/mu2047/.local/lib/python3.8/site-packages/numpy/core/getlimits.py:500: UserWarning: The value of the smallest subnormal for <class 'numpy.float64'> type is zero.\n",
      "  setattr(self, word, getattr(machar, word).flat[0])\n",
      "/home/mu2047/.local/lib/python3.8/site-packages/numpy/core/getlimits.py:89: UserWarning: The value of the smallest subnormal for <class 'numpy.float64'> type is zero.\n",
      "  return self._float_to_str(self.smallest_subnormal)\n"
     ]
    },
    {
     "name": "stdout",
     "output_type": "stream",
     "text": [
      "WARNING:tensorflow:From /home/mu2047/.local/lib/python3.8/site-packages/tensorflow/python/compat/v2_compat.py:107: disable_resource_variables (from tensorflow.python.ops.variable_scope) is deprecated and will be removed in a future version.\n",
      "Instructions for updating:\n",
      "non-resource variables are not supported in the long term\n"
     ]
    }
   ],
   "source": [
    "#import clairvoyante\n",
    "import tensorflow.compat.v1 as tf \n",
    "tf.disable_v2_behavior()\n",
    "import clairvoyante.utils_v2 as utils\n",
    "import clairvoyante.clairvoyante_v2 as cv\n",
    "import clairvoyante.param as param"
   ]
  },
  {
   "cell_type": "markdown",
   "metadata": {},
   "source": [
    "## Train using the chr21+chr22 variants"
   ]
  },
  {
   "cell_type": "code",
   "execution_count": 3,
   "metadata": {
    "collapsed": false,
    "jupyter": {
     "outputs_hidden": false
    }
   },
   "outputs": [],
   "source": [
    "# Load the preprocessed and compressed tensors into memory\n",
    "with open(\"/scratch/mu2047/Project/outputs_new/tensor.bin\", \"rb\") as fh:\n",
    "    total = pickle.load(fh)\n",
    "    XArrayCompressed = pickle.load(fh)\n",
    "    YArrayCompressed = pickle.load(fh)\n",
    "    posArrayCompressed = pickle.load(fh)"
   ]
  },
  {
   "cell_type": "code",
   "execution_count": 4,
   "metadata": {
    "collapsed": false,
    "jupyter": {
     "outputs_hidden": false
    }
   },
   "outputs": [
    {
     "name": "stdout",
     "output_type": "stream",
     "text": [
      "The size of training dataset: 5957618\n"
     ]
    }
   ],
   "source": [
    "print(\"The size of training dataset: {}\".format(total))"
   ]
  },
  {
   "cell_type": "code",
   "execution_count": 5,
   "metadata": {},
   "outputs": [
    {
     "name": "stdout",
     "output_type": "stream",
     "text": [
      "208516\n"
     ]
    }
   ],
   "source": [
    "total = int(0.035 * total)\n",
    "print(total)"
   ]
  },
  {
   "cell_type": "code",
   "execution_count": 6,
   "metadata": {},
   "outputs": [],
   "source": [
    "# Pick a random candidate\n",
    "i = randrange(total)\n",
    "XArray, _, _ = utils.DecompressArray(XArrayCompressed, i, 1, total)"
   ]
  },
  {
   "cell_type": "code",
   "execution_count": 7,
   "metadata": {
    "collapsed": false,
    "jupyter": {
     "outputs_hidden": false
    }
   },
   "outputs": [
    {
     "data": {
      "text/plain": [
       "<matplotlib.colorbar.Colorbar at 0x14ccfbe71220>"
      ]
     },
     "execution_count": 7,
     "metadata": {},
     "output_type": "execute_result"
    },
    {
     "data": {
      "image/png": "[encoded data removed]",
      "text/plain": [
       "<Figure size 1080x144 with 2 Axes>"
      ]
     },
     "metadata": {
      "needs_background": "light"
     },
     "output_type": "display_data"
    },
    {
     "data": {
      "image/png": "[encoded data removed]",
      "text/plain": [
       "<Figure size 1080x144 with 2 Axes>"
      ]
     },
     "metadata": {
      "needs_background": "light"
     },
     "output_type": "display_data"
    },
    {
     "data": {
      "image/png": "[encoded data removed]",
      "text/plain": [
       "<Figure size 1080x144 with 2 Axes>"
      ]
     },
     "metadata": {
      "needs_background": "light"
     },
     "output_type": "display_data"
    },
    {
     "data": {
      "image/png": "[encoded data removed]",
      "text/plain": [
       "<Figure size 1080x144 with 2 Axes>"
      ]
     },
     "metadata": {
      "needs_background": "light"
     },
     "output_type": "display_data"
    }
   ],
   "source": [
    "# Show how the four matrices are like\n",
    "figure(figsize=(15, 2)); matshow(XArray[0,:,:,0].transpose(), vmin=0, vmax=50, cmap=cm.hot, fignum=0); colorbar()\n",
    "figure(figsize=(15, 2)); matshow(XArray[0,:,:,1].transpose(), vmin=-50, vmax=50, cmap=cm.bwr, fignum=0); colorbar()\n",
    "figure(figsize=(15, 2)); matshow(XArray[0,:,:,2].transpose(), vmin=-50, vmax=50, cmap=cm.bwr, fignum=0); colorbar()\n",
    "figure(figsize=(15, 2)); matshow(XArray[0,:,:,3].transpose(), vmin=-50, vmax=50, cmap=cm.bwr, fignum=0); colorbar()"
   ]
  },
  {
   "cell_type": "code",
   "execution_count": 8,
   "metadata": {
    "collapsed": false,
    "jupyter": {
     "outputs_hidden": false
    }
   },
   "outputs": [
    {
     "name": "stdout",
     "output_type": "stream",
     "text": [
      "WARNING:tensorflow:From ../clairvoyante/clairvoyante_v2.py:52: calling TruncatedNormal.__init__ (from tensorflow.python.ops.init_ops) with dtype is deprecated and will be removed in a future version.\n",
      "Instructions for updating:\n",
      "Call initializer instance with the dtype argument instead of passing it to the constructor\n"
     ]
    },
    {
     "name": "stderr",
     "output_type": "stream",
     "text": [
      "../clairvoyante/clairvoyante_v2.py:49: UserWarning: `tf.layers.conv2d` is deprecated and will be removed in a future version. Please Use `tf.keras.layers.Conv2D` instead.\n",
      "  conv1 = tf.compat.v1.layers.conv2d(inputs=XPH,\n",
      "../clairvoyante/clairvoyante_v2.py:58: UserWarning: `tf.layers.max_pooling2d` is deprecated and will be removed in a future version. Please use `tf.keras.layers.MaxPooling2D` instead.\n",
      "  pool1 = tf.compat.v1.layers.max_pooling2d(inputs=conv1,\n",
      "../clairvoyante/clairvoyante_v2.py:64: UserWarning: `tf.layers.conv2d` is deprecated and will be removed in a future version. Please Use `tf.keras.layers.Conv2D` instead.\n",
      "  conv2 = tf.compat.v1.layers.conv2d(inputs=pool1,\n",
      "../clairvoyante/clairvoyante_v2.py:73: UserWarning: `tf.layers.max_pooling2d` is deprecated and will be removed in a future version. Please use `tf.keras.layers.MaxPooling2D` instead.\n",
      "  pool2 = tf.compat.v1.layers.max_pooling2d(inputs=conv2,\n",
      "../clairvoyante/clairvoyante_v2.py:79: UserWarning: `tf.layers.conv2d` is deprecated and will be removed in a future version. Please Use `tf.keras.layers.Conv2D` instead.\n",
      "  conv3 = tf.compat.v1.layers.conv2d(inputs=pool2,\n",
      "../clairvoyante/clairvoyante_v2.py:88: UserWarning: `tf.layers.max_pooling2d` is deprecated and will be removed in a future version. Please use `tf.keras.layers.MaxPooling2D` instead.\n",
      "  pool3 = tf.compat.v1.layers.max_pooling2d(inputs=conv3,\n",
      "../clairvoyante/clairvoyante_v2.py:99: UserWarning: `tf.layers.dense` is deprecated and will be removed in a future version. Please use `tf.keras.layers.Dense` instead.\n",
      "  fc4 = tf.compat.v1.layers.dense(inputs=conv3_flat,\n",
      "../clairvoyante/clairvoyante_v2.py:109: UserWarning: `tf.layers.dense` is deprecated and will be removed in a future version. Please use `tf.keras.layers.Dense` instead.\n",
      "  fc5 = tf.compat.v1.layers.dense(inputs=dropout4,\n",
      "../clairvoyante/clairvoyante_v2.py:120: UserWarning: `tf.layers.dense` is deprecated and will be removed in a future version. Please use `tf.keras.layers.Dense` instead.\n",
      "  YBaseChangeSigmoid = tf.compat.v1.layers.dense(inputs=dropout5, units=self.outputShape1[0], activation=tf.nn.sigmoid, name='YBaseChangeSigmoid')\n",
      "../clairvoyante/clairvoyante_v2.py:122: UserWarning: `tf.layers.dense` is deprecated and will be removed in a future version. Please use `tf.keras.layers.Dense` instead.\n",
      "  YZygosityFC = tf.compat.v1.layers.dense(inputs=dropout5, units=self.outputShape2[0], activation=selu.selu, name='YZygosityFC')\n",
      "../clairvoyante/clairvoyante_v2.py:126: UserWarning: `tf.layers.dense` is deprecated and will be removed in a future version. Please use `tf.keras.layers.Dense` instead.\n",
      "  YVarTypeFC = tf.compat.v1.layers.dense(inputs=dropout5, units=self.outputShape3[0], activation=selu.selu, name='YVarTypeFC')\n",
      "../clairvoyante/clairvoyante_v2.py:130: UserWarning: `tf.layers.dense` is deprecated and will be removed in a future version. Please use `tf.keras.layers.Dense` instead.\n",
      "  YIndelLengthFC = tf.compat.v1.layers.dense(inputs=dropout5, units=self.outputShape4[0], activation=selu.selu, name='YIndelLengthFC')\n"
     ]
    }
   ],
   "source": [
    "# create a Clairvoyante network\n",
    "m = cv.Clairvoyante()\n",
    "m.init()"
   ]
  },
  {
   "cell_type": "code",
   "execution_count": 9,
   "metadata": {
    "collapsed": false,
    "jupyter": {
     "outputs_hidden": false
    }
   },
   "outputs": [
    {
     "name": "stdout",
     "output_type": "stream",
     "text": [
      "Start at learning rate: 1.00e-03\n",
      "Number of variants for validation: 20852\n",
      "Training time elapsed: 24.20 s\n"
     ]
    }
   ],
   "source": [
    "# training the model. The code train on all variants and validate on the first 10% variant sites\n",
    "trainingStart = time.time()\n",
    "trainBatchSize = 512\n",
    "validationLosses = []\n",
    "numValItems = int(len(XArray) * 0.1 + 0.499)\n",
    "print(\"Start at learning rate: %.2e\" % m.setLearningRate(0.001))\n",
    "c = 0; maxLearningRateSwitch = 2\n",
    "epochStart = time.time()\n",
    "datasetPtr = 0\n",
    "epochs = 1\n",
    "numValItems = int(total * 0.1 + 0.499)\n",
    "valXArray, _, _ = utils.DecompressArray(XArrayCompressed, 0, numValItems, total)\n",
    "valYArray, _, _ = utils.DecompressArray(YArrayCompressed, 0, numValItems, total)\n",
    "print(\"Number of variants for validation: %d\" % len(valXArray))\n",
    "i = 1\n",
    "while i < (1 + int(epochs * total / trainBatchSize + 0.499)):\n",
    "\n",
    "    XBatch, _, endFlag = utils.DecompressArray(XArrayCompressed, datasetPtr, trainBatchSize, total)\n",
    "    YBatch, _, _ = utils.DecompressArray(YArrayCompressed, datasetPtr, trainBatchSize, total)\n",
    "    loss, _ = m.train(XBatch, YBatch)\n",
    "    if endFlag != 0:\n",
    "        validationLoss = m.getLoss( valXArray, valYArray )\n",
    "        print(\" \".join([str(i),\\\n",
    "                                       \"Training losses:\", str(loss/trainBatchSize),\\\n",
    "                                       \"Validation losses: \", str(validationLoss/numValItems),\\\n",
    "                                       \"Epoch time elapsed: %.2f s\" % (time.time() - epochStart)]))\n",
    "        validationLosses.append( (validationLoss, i) )\n",
    "        c += 1\n",
    "        flag = 0\n",
    "        if c >= 5:\n",
    "            if validationLosses[-5][0] - validationLosses[-4][0] < 0:\n",
    "                if validationLosses[-4][0] - validationLosses[-3][0] > 0:\n",
    "                    if validationLosses[-3][0] - validationLosses[-2][0] < 0:\n",
    "                        if validationLosses[-2][0] - validationLosses[-1][0] > 0:\n",
    "                            flag = 1\n",
    "            elif validationLosses[-5][0] - validationLosses[-4][0] > 0:\n",
    "                if validationLosses[-4][0] - validationLosses[-3][0] < 0:\n",
    "                    if validationLosses[-3][0] - validationLosses[-2][0] > 0:\n",
    "                        if validationLosses[-2][0] - validationLosses[-1][0] < 0:\n",
    "                            flag = 1\n",
    "            else: flag = 1\n",
    "        if flag == 1:\n",
    "            maxLearningRateSwitch -= 1\n",
    "            if maxLearningRateSwitch == 0: break\n",
    "            print(\"New learning rate: %.2e\" % m.setLearningRate())\n",
    "            c = 0\n",
    "        epochStart = time.time()\n",
    "        datasetPtr = 0\n",
    "    i += 1\n",
    "    datasetPtr += trainBatchSize\n",
    "\n",
    "print(\"Training time elapsed: %.2f s\" % (time.time() - trainingStart))"
   ]
  },
  {
   "cell_type": "markdown",
   "metadata": {},
   "source": [
    "## Testing on the training dataset"
   ]
  },
  {
   "cell_type": "code",
   "execution_count": 10,
   "metadata": {
    "collapsed": false,
    "jupyter": {
     "outputs_hidden": false
    }
   },
   "outputs": [
    {
     "name": "stdout",
     "output_type": "stream",
     "text": [
      "<ipykernel.iostream.OutStream object at 0x14cd84df9a30> Prediciton time elapsed: 69.04 s\n",
      "\n",
      "\n",
      "Version 2 model, evaluation on base change:\n",
      "all/top1/top2/top1p/top2p: 208516/183975/202616/88.23/97.17\n",
      "\n",
      "\n",
      "Version 2 model, evaluation on Zygosity:\n",
      "194961.0\t10538.0\n",
      "619.0\t2398.0\n",
      "\n",
      "\n",
      "Version 2 model, evaluation on variant type:\n",
      "29637.0\t39548.0\t1668.0\t52905.0\n",
      "118.0\t32457.0\t32.0\t3267.0\n",
      "16.0\t648.0\t1840.0\t194.0\n",
      "274.0\t10632.0\t45.0\t35235.0\n",
      "\n",
      "\n",
      "Version 2 model, evaluation on indel length:\n",
      "25111.0\t15928.0\t907.0\t6813.0\t21348.0\t133377.0\n",
      "147.0\t246.0\t91.0\t41.0\t135.0\t35.0\n",
      "228.0\t122.0\t279.0\t58.0\t75.0\t99.0\n",
      "127.0\t13.0\t94.0\t216.0\t26.0\t47.0\n",
      "131.0\t37.0\t47.0\t31.0\t356.0\t40.0\n",
      "28.0\t11.0\t6.0\t11.0\t28.0\t2227.0\n"
     ]
    }
   ],
   "source": [
    "predictStart = time.time()\n",
    "predictBatchSize = 20\n",
    "datasetPtr = 0\n",
    "XBatch, _, _ = utils.DecompressArray(XArrayCompressed, datasetPtr, predictBatchSize, total)\n",
    "bases = []; zs = []; ts = []; ls = []\n",
    "base, z, t, l = m.predict(XBatch)\n",
    "bases.append(base); zs.append(z); ts.append(t); ls.append(l)\n",
    "datasetPtr += predictBatchSize\n",
    "while datasetPtr < total:\n",
    "    XBatch, _, endFlag = utils.DecompressArray(XArrayCompressed, datasetPtr, predictBatchSize, total)\n",
    "    base, z, t, l = m.predict(XBatch)\n",
    "    bases.append(base); zs.append(z); ts.append(t); ls.append(l)\n",
    "    datasetPtr += predictBatchSize\n",
    "    if endFlag != 0:\n",
    "        break\n",
    "bases = np.concatenate(bases[:]); zs = np.concatenate(zs[:]); ts = np.concatenate(ts[:]); ls = np.concatenate(ls[:])\n",
    "print(sys.stderr, \"Prediciton time elapsed: %.2f s\" % (time.time() - predictStart))\n",
    "\n",
    "# Evaluate the trained model\n",
    "YArray, _, _ = utils.DecompressArray(YArrayCompressed, 0, total, total)\n",
    "print(\"\\n\\nVersion 2 model, evaluation on base change:\")\n",
    "allBaseCount = top1Count = top2Count = 0\n",
    "for predictV, annotateV in zip(bases, YArray[:,0:4]):\n",
    "    allBaseCount += 1\n",
    "    sortPredictV = predictV.argsort()[::-1]\n",
    "    if np.argmax(annotateV) == sortPredictV[0]: top1Count += 1; top2Count += 1\n",
    "    elif np.argmax(annotateV) == sortPredictV[1]: top2Count += 1\n",
    "print(\"all/top1/top2/top1p/top2p: %d/%d/%d/%.2f/%.2f\" %\\\n",
    "            (allBaseCount, top1Count, top2Count, float(top1Count)/allBaseCount*100, float(top2Count)/allBaseCount*100))\n",
    "print(\"\\n\\nVersion 2 model, evaluation on Zygosity:\")\n",
    "ed = np.zeros( (2,2))\n",
    "for predictV, annotateV in zip(zs, YArray[:,4:6]):\n",
    "    ed[np.argmax(annotateV)][np.argmax(predictV)] += 1\n",
    "for i in range(2):\n",
    "    print(\"\\t\".join([str(ed[i][j]) for j in range(2)]))\n",
    "print(\"\\n\\nVersion 2 model, evaluation on variant type:\")\n",
    "ed = np.zeros( (4,4))\n",
    "for predictV, annotateV in zip(ts, YArray[:,6:10]):\n",
    "    ed[np.argmax(annotateV)][np.argmax(predictV)] += 1\n",
    "for i in range(4):\n",
    "    print(\"\\t\".join([str(ed[i][j]) for j in range(4)]))\n",
    "print(\"\\n\\nVersion 2 model, evaluation on indel length:\")\n",
    "ed = np.zeros( (6,6))\n",
    "for predictV, annotateV in zip(ls, YArray[:,10:16]):\n",
    "    ed[np.argmax(annotateV)][np.argmax(predictV)] += 1\n",
    "for i in range(6):\n",
    "    print(\"\\t\".join([str(ed[i][j]) for j in range(6)]))"
   ]
  },
  {
   "cell_type": "markdown",
   "metadata": {},
   "source": [
    "## Testing on the chr22 variants"
   ]
  },
  {
   "cell_type": "code",
   "execution_count": null,
   "metadata": {},
   "outputs": [],
   "source": [
    "! pip install intervaltree"
   ]
  },
  {
   "cell_type": "code",
   "execution_count": null,
   "metadata": {},
   "outputs": [],
   "source": [
    "import clairvoyante.utils_v2 as utils"
   ]
  },
  {
   "cell_type": "code",
   "execution_count": null,
   "metadata": {},
   "outputs": [],
   "source": [
    "!pip list"
   ]
  },
  {
   "cell_type": "code",
   "execution_count": null,
   "metadata": {
    "collapsed": false,
    "jupyter": {
     "outputs_hidden": false
    }
   },
   "outputs": [],
   "source": [
    "total, XArrayCompressed, YArrayCompressed, posArrayCompressed = \\\n",
    "utils.GetTrainingArray(\"/scratch/mu2047/Project/Clairvoyante/training/tensor_can_chr22\",\n",
    "                       \"/scratch/mu2047/Project/Clairvoyante/training/var_chr22\",\n",
    "                       \"/scratch/mu2047/Project/Clairvoyante/training/bed\")\n",
    "YArray, _, _ = utils.DecompressArray(YArrayCompressed, 0, total, total)"
   ]
  },
  {
   "cell_type": "code",
   "execution_count": null,
   "metadata": {},
   "outputs": [],
   "source": [
    "XArrayCompressed"
   ]
  },
  {
   "cell_type": "code",
   "execution_count": null,
   "metadata": {
    "collapsed": false,
    "jupyter": {
     "outputs_hidden": false
    }
   },
   "outputs": [],
   "source": [
    "print(\"Testing on the training and validation dataset ...\")\n",
    "predictStart = time.time()\n",
    "predictBatchSize = param.predictBatchSize\n",
    "datasetPtr = 0\n",
    "XBatch, _, _ = utils.DecompressArray(XArrayCompressed, datasetPtr, predictBatchSize, total)\n",
    "print(XBatch.shape)\n",
    "bases = []; zs = []; ts = []; ls = []\n",
    "base, z, t, l = m.predict(XBatch)\n",
    "bases.append(base); zs.append(z); ts.append(t); ls.append(l)\n",
    "datasetPtr += predictBatchSize\n",
    "while datasetPtr < total:\n",
    "    XBatch, _, endFlag = utils.DecompressArray(XArrayCompressed, datasetPtr, predictBatchSize, total)\n",
    "    base, z, t, l = m.predict(XBatch)\n",
    "    bases.append(base); zs.append(z); ts.append(t); ls.append(l)\n",
    "    datasetPtr += predictBatchSize\n",
    "    if endFlag != 0:\n",
    "        break\n",
    "bases = np.concatenate(bases[:]); zs = np.concatenate(zs[:]); ts = np.concatenate(ts[:]); ls = np.concatenate(ls[:])\n",
    "print(\"Prediciton time elapsed: %.2f s\" % (time.time() - predictStart))\n",
    "\n",
    "# Evaluate the trained model\n",
    "YArray, _, _ = utils.DecompressArray(YArrayCompressed, 0, total, total)\n",
    "print(\"Version 2 model, evaluation on base change:\")\n",
    "allBaseCount = top1Count = top2Count = 0\n",
    "for predictV, annotateV in zip(bases, YArray[:,0:4]):\n",
    "    allBaseCount += 1\n",
    "    sortPredictV = predictV.argsort()[::-1]\n",
    "    if np.argmax(annotateV) == sortPredictV[0]: top1Count += 1; top2Count += 1\n",
    "    elif np.argmax(annotateV) == sortPredictV[1]: top2Count += 1\n",
    "print(\"all/top1/top2/top1p/top2p: %d/%d/%d/%.2f/%.2f\" %\\\n",
    "            (allBaseCount, top1Count, top2Count, float(top1Count)/allBaseCount*100, float(top2Count)/allBaseCount*100))\n",
    "print(\"Version 2 model, evaluation on Zygosity:\")\n",
    "ed = np.zeros( (2,2))\n",
    "for predictV, annotateV in zip(zs, YArray[:,4:6]):\n",
    "    ed[np.argmax(annotateV)][np.argmax(predictV)] += 1\n",
    "for i in range(2):\n",
    "    print(\"\\t\".join([str(ed[i][j]) for j in range(2)]))\n",
    "print(\"Version 2 model, evaluation on variant type:\")\n",
    "ed = np.zeros( (4,4))\n",
    "for predictV, annotateV in zip(ts, YArray[:,6:10]):\n",
    "    ed[np.argmax(annotateV)][np.argmax(predictV)] += 1\n",
    "for i in range(4):\n",
    "    print(\"\\t\".join([str(ed[i][j]) for j in range(4)]))\n",
    "print(\"Version 2 model, evaluation on indel length:\")\n",
    "ed = np.zeros( (6,6) )\n",
    "for predictV, annotateV in zip(ls, YArray[:,10:16]):\n",
    "    ed[np.argmax(annotateV)][np.argmax(predictV)] += 1\n",
    "for i in range(6):\n",
    "    print(\"\\t\".join([str(ed[i][j]) for j in range(6)]))"
   ]
  },
  {
   "cell_type": "markdown",
   "metadata": {},
   "source": [
    "## Visualizing predictions"
   ]
  },
  {
   "cell_type": "code",
   "execution_count": null,
   "metadata": {
    "collapsed": false,
    "jupyter": {
     "outputs_hidden": false
    }
   },
   "outputs": [],
   "source": [
    "# Compare the output of the expected calls and the predicted calls\n",
    "arrayStart = 0\n",
    "arrayEnd = 100\n",
    "figure(figsize=(20, 5))\n",
    "matshow(YArray[arrayStart:arrayEnd,:].transpose(), fignum=0, cmap=cm.PuRd)\n",
    "figure(figsize=(20, 5))\n",
    "matshow(np.concatenate( (bases[arrayStart:arrayEnd,:],zs[arrayStart:arrayEnd,:],\\\n",
    "                         ts[arrayStart:arrayEnd,:],ls[arrayStart:arrayEnd,:]),1).transpose(), fignum=0, cmap=cm.PuRd)"
   ]
  },
  {
   "cell_type": "code",
   "execution_count": null,
   "metadata": {},
   "outputs": [],
   "source": []
  }
 ],
 "metadata": {
  "kernelspec": {
   "display_name": "Python 3",
   "language": "python",
   "name": "python3"
  },
  "language_info": {
   "codemirror_mode": {
    "name": "ipython",
    "version": 3
   },
   "file_extension": ".py",
   "mimetype": "text/x-python",
   "name": "python",
   "nbconvert_exporter": "python",
   "pygments_lexer": "ipython3",
   "version": "3.8.6"
  }
 },
 "nbformat": 4,
 "nbformat_minor": 4
}
